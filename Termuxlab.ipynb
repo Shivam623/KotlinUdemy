{
  "nbformat": 4,
  "nbformat_minor": 0,
  "metadata": {
    "colab": {
      "name": "Termuxlab.ipynb",
      "provenance": [],
      "collapsed_sections": [],
      "include_colab_link": true
    },
    "kernelspec": {
      "name": "python3",
      "display_name": "Python 3"
    }
  },
  "cells": [
    {
      "cell_type": "markdown",
      "metadata": {
        "id": "view-in-github",
        "colab_type": "text"
      },
      "source": [
        "<a href=\"https://colab.research.google.com/github/Shivam623/KotlinUdemy/blob/master/Termuxlab.ipynb\" target=\"_parent\"><img src=\"https://colab.research.google.com/assets/colab-badge.svg\" alt=\"Open In Colab\"/></a>"
      ]
    },
    {
      "cell_type": "markdown",
      "metadata": {
        "id": "dsc3cQjT8lwR",
        "colab_type": "text"
      },
      "source": [
        "imports\n",
        "\n"
      ]
    },
    {
      "cell_type": "code",
      "metadata": {
        "id": "31W9Ld9k8Fbk",
        "colab_type": "code",
        "colab": {}
      },
      "source": [
        "import os\n",
        "from datetime import datetime, time"
      ],
      "execution_count": 0,
      "outputs": []
    },
    {
      "cell_type": "markdown",
      "metadata": {
        "id": "CeiGVcLr8tgv",
        "colab_type": "text"
      },
      "source": [
        "Get the string for TTS"
      ]
    },
    {
      "cell_type": "code",
      "metadata": {
        "id": "eorq28FA8xr5",
        "colab_type": "code",
        "colab": {}
      },
      "source": [
        "def get_tts_string_working():\n",
        "  speech_text_value = os.popen('termux-dialog -t \"Enter speech text\"').read()\n",
        "  speech_texts = eval(speech_text_value)\n",
        "  speech_text = speech_texts['text']\n",
        "  if len(str(speech_text)) > 0:\n",
        "    tts_task = 'terux-tts-speak '+str(speech_text)\n",
        "    return tts_task\n",
        "  else:\n",
        "    os.popen('termux-toast \"required\"')\n",
        "    get_tts_string_working()\n"
      ],
      "execution_count": 0,
      "outputs": []
    },
    {
      "cell_type": "markdown",
      "metadata": {
        "id": "l0gtUA4g9DIX",
        "colab_type": "text"
      },
      "source": [
        "Get the battery status\n"
      ]
    },
    {
      "cell_type": "code",
      "metadata": {
        "id": "fMwo7I309JcM",
        "colab_type": "code",
        "colab": {}
      },
      "source": [
        "def get_battery_status():\n",
        "  "
      ],
      "execution_count": 0,
      "outputs": []
    },
    {
      "cell_type": "markdown",
      "metadata": {
        "id": "qf95q_I79SXU",
        "colab_type": "text"
      },
      "source": [
        "main function"
      ]
    },
    {
      "cell_type": "code",
      "metadata": {
        "id": "Glv9_dnR9a57",
        "colab_type": "code",
        "colab": {}
      },
      "source": [
        "def get_standard_action();\n",
        "     try:\n",
        "\tstandard_task = \"\"\t\n",
        "\tlive_location = os.popen('termux-location').read()\n",
        "\tlive_location_dictionary = eval(live_location)\n",
        "\tst_longitude = live_location_dictionary['latitude']\n",
        "\tst_latitude = live_location_dictionary['longitude']\n",
        "\tstandard_location_name = os.popen('termux-dialog text -t \"enter the location name\"').read()\n",
        "\tstandard_location_start_time = os.popen('termux-dialog time -t \"Enter Start Time\"').read()\n",
        "\tstandard_location_end_time = os.popen('termux-dialog time -t \"Enter End Time\"').read()\n",
        "\tstandard_task = os.popen('termux-dialog checkbox -t \"select commands please\" -v \"termux-tts-speak, termux-battery-status, termux-telephony-call\"').read()\n",
        "\ttasks = eval(standard_task)\n",
        "\ttask = eval(tasks['text'])\n",
        "\tfor t in task:\n",
        "\t    if str(t).__contains__('speak'):\n",
        "\t\tresult = get_tts_string_working()\n",
        "\t\tstandard_task += result \n",
        "\t    elif str(t).__contains___('battery'):\n",
        "\t\tget_battery_string_working()\n",
        "\t    elif str(t).__contains__('telephony'):\n",
        "\t\tget_telephony_details()"
      ],
      "execution_count": 0,
      "outputs": []
    }
  ]
}