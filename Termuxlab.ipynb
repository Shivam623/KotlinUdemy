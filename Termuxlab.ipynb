{
  "nbformat": 4,
  "nbformat_minor": 0,
  "metadata": {
    "colab": {
      "name": "Termuxlab.ipynb",
      "provenance": [],
      "collapsed_sections": [],
      "include_colab_link": true
    },
    "kernelspec": {
      "name": "python3",
      "display_name": "Python 3"
    }
  },
  "cells": [
    {
      "cell_type": "markdown",
      "metadata": {
        "id": "view-in-github",
        "colab_type": "text"
      },
      "source": [
        "<a href=\"https://colab.research.google.com/github/Shivam623/KotlinUdemy/blob/master/Termuxlab.ipynb\" target=\"_parent\"><img src=\"https://colab.research.google.com/assets/colab-badge.svg\" alt=\"Open In Colab\"/></a>"
      ]
    },
    {
      "cell_type": "markdown",
      "metadata": {
        "id": "dsc3cQjT8lwR",
        "colab_type": "text"
      },
      "source": [
        "imports\n",
        "\n"
      ]
    },
    {
      "cell_type": "code",
      "metadata": {
        "id": "31W9Ld9k8Fbk",
        "colab_type": "code",
        "colab": {}
      },
      "source": [
        "import os\n",
        "from datetime import datetime, time"
      ],
      "execution_count": 0,
      "outputs": []
    },
    {
      "cell_type": "markdown",
      "metadata": {
        "id": "CeiGVcLr8tgv",
        "colab_type": "text"
      },
      "source": [
        "Get the string for TTS"
      ]
    },
    {
      "cell_type": "code",
      "metadata": {
        "id": "eorq28FA8xr5",
        "colab_type": "code",
        "colab": {}
      },
      "source": [
        "def get_tts_string_working():\n",
        "  try:\n",
        "    speech_text_value = os.popen('termux-dialog -t \"Enter speech text\"').read()\n",
        "    speech_texts = eval(speech_text_value)\n",
        "    speech_text = speech_texts['text']\n",
        "    if len(str(speech_text)) > 0:\n",
        "      tts_task = 'terux-tts-speak '+str(speech_text)\n",
        "      return tts_task\n",
        "    else:\n",
        "      os.popen('termux-toast \"required\"')\n",
        "      get_tts_string_working()\n",
        "  except Exception as e:\n",
        "    print(\"Expection Occured\")\n",
        "    os.popen('termux-toast \"Try with some other string\"')\n",
        "    get_tts_string_working()\n",
        "  finally:\n",
        "    print(\"Got the string\")"
      ],
      "execution_count": 0,
      "outputs": []
    },
    {
      "cell_type": "markdown",
      "metadata": {
        "id": "l0gtUA4g9DIX",
        "colab_type": "text"
      },
      "source": [
        "Get the battery status\n"
      ]
    },
    {
      "cell_type": "code",
      "metadata": {
        "id": "fMwo7I309JcM",
        "colab_type": "code",
        "colab": {}
      },
      "source": [
        "def get_battery_status():\n",
        "  "
      ],
      "execution_count": 0,
      "outputs": []
    },
    {
      "cell_type": "markdown",
      "metadata": {
        "id": "bxbFSwFqKuQH",
        "colab_type": "text"
      },
      "source": [
        "Get Location Name"
      ]
    },
    {
      "cell_type": "code",
      "metadata": {
        "id": "5XdgVZ4yKwq7",
        "colab_type": "code",
        "colab": {}
      },
      "source": [
        "def get_location_name():\n",
        "  try:\n",
        "    termux_input_location = os.popen('termux-dialog text -t \"enter the location name\"').read()\n",
        "    input_location = eval(termux_input_location)\n",
        "    location_text = input_location['text']\n",
        "    if len(location_text) > 0:\n",
        "      return str(location_text)\n",
        "    else:\n",
        "      os.popen('termux-toast \"required\"')\n",
        "      get_location_name()\n",
        "  except Exception as e:\n",
        "    print(e)\n",
        "    os.popen('termux-toast \"Please try some other text\"')\n",
        "  finally:\n",
        "    print(\"String is collected\")"
      ],
      "execution_count": 0,
      "outputs": []
    },
    {
      "cell_type": "markdown",
      "metadata": {
        "id": "UjQ3Q6zjM0BG",
        "colab_type": "text"
      },
      "source": [
        "Get start time"
      ]
    },
    {
      "cell_type": "code",
      "metadata": {
        "id": "-vD8QMWPM2fF",
        "colab_type": "code",
        "colab": {}
      },
      "source": [
        "def get_start_time():\n",
        "  try:\n",
        "    location_start_time = os.popen('termux-dialog time -t \"Enter Start time Please\"')\n",
        "    input_start_time = eval(location_start_time)\n",
        "    start_time = input_start_time['text']\n",
        "    if len(start_time) > 0:\n",
        "      return start_time\n",
        "    else:\n",
        "      os.popen('termux-toast \"required\"')\n",
        "      get_start_time()\n",
        "    print()\n",
        "  except Exception as e:\n",
        "    print(\"Exception Occured\", e)\n",
        "    os.popen('termux-toast \"Please try again\"')\n",
        "    get_start_time()\n",
        "  finally:\n",
        "    print(\"I got the Start time\")"
      ],
      "execution_count": 0,
      "outputs": []
    },
    {
      "cell_type": "markdown",
      "metadata": {
        "id": "ij_SrSQ-Qxi8",
        "colab_type": "text"
      },
      "source": [
        "Get End Time"
      ]
    },
    {
      "cell_type": "code",
      "metadata": {
        "id": "mv-UWO96Q232",
        "colab_type": "code",
        "colab": {}
      },
      "source": [
        "def get_end_time():\n",
        "  try:\n",
        "    location_end_time = os.popen('termux-dialog time -t \"Enter End time Please\"')\n",
        "    input_end_time = eval(location_end_time)\n",
        "    end_time = input_end_time['text']\n",
        "    if len(end_time) > 0:\n",
        "      return end_time\n",
        "    else:\n",
        "      os.popen('termux-toast \"required\"')\n",
        "      get_end_time()\n",
        "  except Exception as e:\n",
        "    print(\"Exception Occured\", e)\n",
        "    os.popen('termux-toast \"Please try again\"')\n",
        "    get_end_time()\n",
        "  finally:\n",
        "    print(\"I got the Start time\")"
      ],
      "execution_count": 0,
      "outputs": []
    },
    {
      "cell_type": "markdown",
      "metadata": {
        "id": "qf95q_I79SXU",
        "colab_type": "text"
      },
      "source": [
        "main function"
      ]
    },
    {
      "cell_type": "code",
      "metadata": {
        "id": "Glv9_dnR9a57",
        "colab_type": "code",
        "colab": {}
      },
      "source": [
        "def get_standard_action():\n",
        "\ttry:\n",
        "\t\tlive_location = os.popen('termux-location').read()\n",
        "\t  live_location_dictionary = eval(live_location)\n",
        "\t  st_longitude = live_location_dictionary['latitude']\n",
        "\t\tst_latitude = live_location_dictionary['longitude']\n",
        "\t\tstandard_location_name = get_location_name()\n",
        "\t  standard_location_start_time = get_start_time()\n",
        "\t  standard_location_end_time = get_end_time()\n",
        "\tstandard_task = os.popen('termux-dialog checkbox -t \"select commands please\" -v \"termux-tts-speak, termux-battery-status, termux-telephony-call\"').read()\n",
        "\ttasks = eval(standard_task)\n",
        "\ttask = eval(tasks['text'])\n",
        "\tfor t in task:\n",
        "\t    if str(t).__contains__('speak'):\n",
        "\t\tresult = get_tts_string_working()\n",
        "\t\tstandard_task += result \n",
        "\t    elif str(t).__contains___('battery'):\n",
        "\t\tget_battery_string_working()\n",
        "\t    elif str(t).__contains__('telephony'):\n",
        "\t\tget_telephony_details()"
      ],
      "execution_count": 0,
      "outputs": []
    }
  ]
}